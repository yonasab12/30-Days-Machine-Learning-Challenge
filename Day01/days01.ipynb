{
 "cells": [
  {
   "cell_type": "markdown",
   "metadata": {},
   "source": [
    "import pandas and  importing different format of file "
   ]
  },
  {
   "cell_type": "code",
   "execution_count": null,
   "metadata": {
    "vscode": {
     "languageId": "plaintext"
    }
   },
   "outputs": [],
   "source": [
    "import pandas as pd\n",
    "\n",
    "# Read CSV file\n",
    "pd.read_csv(filename)\n",
    "\n",
    "# Read Excel file\n",
    "\n",
    "pd.read_excel(filename)\n",
    "\n",
    "# Read JSON file\n",
    "\n",
    "pd.read_json(filename)"
   ]
  },
  {
   "cell_type": "code",
   "execution_count": null,
   "metadata": {
    "vscode": {
     "languageId": "plaintext"
    }
   },
   "outputs": [],
   "source": [
    "#  pandas form DataFrame(2D in  row  and column) and series(1D)\n",
    "# make DataFrame with give dictionary\n",
    "\n",
    "data={'name':['yonas','Abel','hermon'],'dep':['cs','ds','swe']}\n",
    "df=pd.DataFrame(data)\n",
    "print(df)\n",
    "# make  series with list series are basically one dimentional data\n",
    "list=['a','b','c','d','e']\n",
    "pd.Series(list)\n"
   ]
  },
  {
   "cell_type": "code",
   "execution_count": null,
   "metadata": {
    "vscode": {
     "languageId": "plaintext"
    }
   },
   "outputs": [],
   "source": [
    "#  after we make DataFrame  next step view,describe,summary cheack null,cheack duplicate,fillna,dropna,\n",
    "\n",
    "df.head()# to view the first five\n",
    "df.tail() # to view the last five row\n",
    "df.iloc[0:5] # to view the first 6 row uing index\n",
    "df.describe()# to get stastics summary\n",
    "\n",
    "df.info() #  to get info\n",
    "\n",
    "df.isnull().sum() # cheack null\n",
    "\n",
    "df.fillna(True) # fill  the null  values\n",
    "df.dropna()  # drop the null values\n",
    "df.duplicated().sum() #  to  cheak if there are duplicates\n",
    "df.drop_duplicates().sum()"
   ]
  }
 ],
 "metadata": {
  "language_info": {
   "name": "python"
  }
 },
 "nbformat": 4,
 "nbformat_minor": 2
}
