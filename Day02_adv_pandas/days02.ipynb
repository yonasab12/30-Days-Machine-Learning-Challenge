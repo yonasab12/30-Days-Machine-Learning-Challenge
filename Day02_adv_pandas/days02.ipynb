{
 "cells": [
  {
   "cell_type": "code",
   "execution_count": null,
   "metadata": {
    "vscode": {
     "languageId": "plaintext"
    }
   },
   "outputs": [],
   "source": [
    "\n",
    "   # loc\n",
    "data = {'A': [1, 2, 3], 'B': [4, 5, 6], 'C': [7, 8, 9]}\n",
    "df = pd.DataFrame(data, index=['x', 'y', 'z'])\n",
    "\n",
    "# Access a specific row by label\n",
    "print(df.loc['y'])\n",
    "\n",
    "# Access a specific value by row and column label\n",
    "print(df.loc['z', 'B'])\n",
    "\n",
    "# Access a range of rows (end is included)\n",
    "print(df.loc['x':'y'])"
   ]
  },
  {
   "cell_type": "code",
   "execution_count": null,
   "metadata": {
    "vscode": {
     "languageId": "plaintext"
    }
   },
   "outputs": [],
   "source": []
  },
  {
   "cell_type": "code",
   "execution_count": null,
   "metadata": {
    "vscode": {
     "languageId": "plaintext"
    }
   },
   "outputs": [],
   "source": [
    "   # iloc\n",
    "# Access a specific row by position\n",
    "print(df.iloc[1])\n",
    "\n",
    "# Access a specific value by row and column position\n",
    "print(df.iloc[2, 1])\n",
    "\n",
    "# Access a range of rows (end is excluded)\n",
    "print(df.iloc[0:2])\n",
    "\n",
    "# Access using a list of positions\n",
    "print(df.iloc[[0, 2]])"
   ]
  },
  {
   "cell_type": "code",
   "execution_count": null,
   "metadata": {
    "vscode": {
     "languageId": "plaintext"
    }
   },
   "outputs": [],
   "source": [
    "dataset.groupby(['cut', 'color']).agg('min') \n"
   ]
  }
 ],
 "metadata": {
  "language_info": {
   "name": "python"
  }
 },
 "nbformat": 4,
 "nbformat_minor": 2
}
