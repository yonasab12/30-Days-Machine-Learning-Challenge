{
 "cells": [
  {
   "cell_type": "markdown",
   "metadata": {},
   "source": [
    "          classification "
   ]
  },
  {
   "cell_type": "markdown",
   "metadata": {},
   "source": [
    "from sklearn.linear_model import\n",
    "LogisticRegression\n",
    "# Sample data: features (X) and churn status (y)\n",
    "X = [[2, True, 12], [1, False, 6], [4, True, 24]] \n",
    "# Purchase frequency, loyalty member, months since\n",
    "last purchase\n",
    "y = [1, 0, 1] # Churn status (1 = churned, 0 =\n",
    "not churned)\n",
    "# Create and train the logistic regression\n",
    "classifier model\n",
    "model = LogisticRegression()\n",
    "model.fit(X, y)\n",
    "# Predict churn status for a new customer (3\n",
    "purchases, not a loyalty member, 3 months since\n",
    "last purchase)\n",
    "new_customer = [[3, False, 3]]\n",
    "predicted_churn = model.predict(new_customer)\n",
    "print(\"Predicted churn status for the new\n",
    "customer:\", predicted_churn[0])\n",
    "# Interpret the output: 1 represents churn, 0\n",
    "represents not churn"
   ]
  },
  {
   "cell_type": "code",
   "execution_count": null,
   "metadata": {
    "vscode": {
     "languageId": "plaintext"
    }
   },
   "outputs": [],
   "source": [
    "            Regression"
   ]
  },
  {
   "cell_type": "code",
   "execution_count": null,
   "metadata": {
    "vscode": {
     "languageId": "plaintext"
    }
   },
   "outputs": [],
   "source": [
    "from sklearn.linear_model import LinearRegression\n",
    "# Sample data: movie features (X) and user ratings\n",
    "(y)\n",
    "X = [[120, \"Comedy\"], [180, \"Action\"], [100,\n",
    "\"Drama\"]] # Movie duration, genre\n",
    "y = [4, 5, 3] # User ratings\n",
    "# Create and train the linear regression model\n",
    "model = LinearRegression()\n",
    "model.fit(X, y)\n",
    "# Predict the rating for a new movie (150 minutes,\n",
    "Comedy genre)\n",
    "new_movie = [[150, \"Comedy\"]]\n",
    "predicted_rating = model.predict(new_movie)\n",
    "print(\"Predicted rating for the new movie:\",\n",
    "predicted_rating[0])"
   ]
  },
  {
   "cell_type": "markdown",
   "metadata": {},
   "source": []
  }
 ],
 "metadata": {
  "language_info": {
   "name": "python"
  }
 },
 "nbformat": 4,
 "nbformat_minor": 2
}
